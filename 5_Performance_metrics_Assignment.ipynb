{
 "cells": [
  {
   "cell_type": "markdown",
   "metadata": {
    "colab_type": "text",
    "id": "s0Ej_bXyQvnV"
   },
   "source": [
    "# Compute performance metrics for the given Y and Y_score without sklearn"
   ]
  },
  {
   "cell_type": "code",
   "execution_count": 2,
   "metadata": {
    "colab": {},
    "colab_type": "code",
    "id": "4CHb6NE7Qvnc"
   },
   "outputs": [],
   "source": [
    "import numpy as np\n",
    "import pandas as pd\n",
    "from sklearn.metrics import confusion_matrix #To verify the results I get for each program\n",
    "# other than these two you should not import any other packages"
   ]
  },
  {
   "cell_type": "markdown",
   "metadata": {
    "colab_type": "text",
    "id": "KbsWXuDaQvnq"
   },
   "source": [
    "<pre>\n",
    "<font color='red'><b>A.</b></font> Compute performance metrics for the given data <strong>5_a.csv</strong>\n",
    "   <b>Note 1:</b> in this data you can see number of positive points >> number of negatives points\n",
    "   <b>Note 2:</b> use pandas or numpy to read the data from <b>5_a.csv</b>\n",
    "   <b>Note 3:</b> you need to derive the class labels from given score</pre> $y^{pred}= \\text{[0 if y_score < 0.5 else 1]}$\n",
    "\n",
    "<pre>\n",
    "<ol>\n",
    "<li> Compute Confusion Matrix </li>\n",
    "<li> Compute F1 Score </li>\n",
    "<li> Compute AUC Score, you need to compute different thresholds and for each threshold compute tpr,fpr and then use               numpy.trapz(tpr_array, fpr_array) <a href='https://stackoverflow.com/q/53603376/4084039'>https://stackoverflow.com/q/53603376/4084039</a>, <a href='https://stackoverflow.com/a/39678975/4084039'>https://stackoverflow.com/a/39678975/4084039</a> Note: it should be numpy.trapz(tpr_array, fpr_array) not numpy.trapz(fpr_array, tpr_array)</li>\n",
    "<li> Compute Accuracy Score </li>\n",
    "</ol>\n",
    "</pre>"
   ]
  },
  {
   "cell_type": "code",
   "execution_count": 3,
   "metadata": {},
   "outputs": [],
   "source": [
    "def predict(y_score):\n",
    "    if y_score <0.5:\n",
    "        return 0\n",
    "    return 1\n",
    "\n",
    "def confusion_matrix(a):\n",
    "    confusion_matrix = np.zeros([2,2]) #Assign a 2x2 Zero matrix for confusion Matrix\n",
    "    #print(confusion_matrix)\n",
    "\n",
    "    y_true = a['y'] #True values of y is the second column called y\n",
    "    y_pred = a['y_pred'] #Predicted values of y is the 3rd column callled y_pred\n",
    "    #print(len(y_true))\n",
    "    #print(len(y_pred))\n",
    "\n",
    "    #1st Element = True Positives\n",
    "    for i in range(len(y_true)):\n",
    "        if y_true[i] == 1:\n",
    "            if y_true[i] == y_pred[i]:\n",
    "                confusion_matrix[0][0] = confusion_matrix[0][0]+1    \n",
    "    #2nd element - False Postives\n",
    "    for i in range(len(y_true)):\n",
    "            if y_true[i] == 0:\n",
    "                if y_pred[i] == 1:\n",
    "                    confusion_matrix[0][1] = confusion_matrix[0][1]+1  \n",
    "\n",
    "    #3rd element - False Negatives\n",
    "    for i in range(len(y_true)):\n",
    "            if y_true[i] == 1:\n",
    "                if y_pred[i] == 0:\n",
    "                    confusion_matrix[1][0] = confusion_matrix[1][0]+1  \n",
    "                    \n",
    "    #4th element - True Negatives\n",
    "    for i in range(len(y_true)):\n",
    "        if y_true[i] == 0:\n",
    "            if y_true[i] == y_pred[i]:\n",
    "                confusion_matrix[1][1] = confusion_matrix[1][1]+1\n",
    "    return confusion_matrix\n",
    "\n"
   ]
  },
  {
   "cell_type": "code",
   "execution_count": 4,
   "metadata": {},
   "outputs": [],
   "source": [
    "def f1_score(confusion_matrix):\n",
    "    \n",
    "    TP = confusion_matrix[0][0]\n",
    "    FP = confusion_matrix[0][1]\n",
    "    FN = confusion_matrix[1][0]\n",
    "    recall = TP/(TP+FN)\n",
    "    precision = TP/(TP+FP)\n",
    "    f1_score = 2 * ((precision*recall)/(precision+recall))\n",
    "    return f1_score\n",
    "\n",
    "def Accuracy_score(confusion_matrix):\n",
    "    TP = confusion_matrix[0][0]\n",
    "    FP = confusion_matrix[0][1]\n",
    "    FN = confusion_matrix[1][0]\n",
    "    TN = confusion_matrix[1][1]\n",
    "    accuracy_score = (TP + TN)/ (TP + FN + TN + FP)\n",
    "    return accuracy_score"
   ]
  },
  {
   "cell_type": "code",
   "execution_count": 5,
   "metadata": {
    "colab": {},
    "colab_type": "code",
    "id": "WaFLW7oBQvnt"
   },
   "outputs": [],
   "source": [
    "def AreaUnderCurve(a):\n",
    "  \"\"\"\n",
    "  THis will take the actual data frame and plot the ROC curve and calculates the AUC for that\n",
    "  \"\"\"\n",
    "  from tqdm import tqdm\n",
    "  import matplotlib.pyplot as plt\n",
    "  #from sklearn import metrics\n",
    "  data = a\n",
    "  data = data.sort_values(by=[\"proba\"], ascending = False)\n",
    "  tpr = [0]\n",
    "  fpr = [0]\n",
    "  for threshold in tqdm(data['proba'].unique()):\n",
    "    data[\"pred\"] = np.where(data[\"proba\"]>=threshold, 1,0)\n",
    "    #TP\n",
    "    TP = ((data[\"pred\"]==1.0) & (data['y']==1.0)).sum()\n",
    "    #print(TP)\n",
    "    FP = ((data.pred == 1.0) & (data.y == 0)).sum()\n",
    "    P =  (data.y==1).sum() \n",
    "    ##print(P)\n",
    "    N = (data.y==0).sum()\n",
    "    TPR = TP/P\n",
    "    #print(TPR)\n",
    "    tpr.append(TPR)\n",
    "    FPR = FP/N\n",
    "    fpr.append(FPR) \n",
    "  #print(\"\\nThe lenght of TPR is \",len(tpr))\n",
    "  #print(\"The lenght of FPR = \",len(fpr))\n",
    "  plt.plot(fpr,tpr)\n",
    "  plt.xlabel(\"False Positive Rate\")\n",
    "  plt.ylabel(\"True Positive Rate\")\n",
    "  plt.title(\"ROC Curve\")\n",
    "  plt.show()\n",
    "\n",
    "  AUC = np.trapz(tpr,fpr,dx=1)\n",
    "    \n",
    "  #print(\"Area by AUC we made is \",AUC)\n",
    "  #false, true, thresholds = metrics.roc_curve(data['y'], data['proba']) #Check labels of the second column(prob score)\n",
    "  #AREA = metrics.auc(false, true)\n",
    "  #print(\"\\n Area by sklearn is \", AREA)\n",
    "\n",
    "  return AUC"
   ]
  },
  {
   "cell_type": "code",
   "execution_count": 6,
   "metadata": {},
   "outputs": [
    {
     "name": "stdout",
     "output_type": "stream",
     "text": [
      "     y     proba  y_pred\n",
      "0  1.0  0.637387       1\n",
      "1  1.0  0.635165       1\n",
      "2  1.0  0.766586       1\n",
      "3  1.0  0.724564       1\n",
      "4  1.0  0.889199       1\n",
      "5  1.0  0.601600       1\n",
      "6  1.0  0.666323       1\n",
      "7  1.0  0.567012       1\n",
      "8  1.0  0.650230       1\n",
      "9  1.0  0.829346       1\n",
      "\n",
      "e confusion matrix is:  \n",
      " [[10000.   100.]\n",
      " [    0.     0.]]\n",
      "\n",
      "he F-1 score is  0.9950248756218906\n",
      "The accuracy score is  0.9900990099009901\n"
     ]
    },
    {
     "name": "stderr",
     "output_type": "stream",
     "text": [
      "100%|███████████████████████████████████████████████████████████████████████████| 10100/10100 [00:19<00:00, 531.00it/s]\n"
     ]
    },
    {
     "data": {
      "image/png": "[encoded data removed]",
      "text/plain": [
       "<Figure size 432x288 with 1 Axes>"
      ]
     },
     "metadata": {
      "needs_background": "light"
     },
     "output_type": "display_data"
    },
    {
     "name": "stdout",
     "output_type": "stream",
     "text": [
      "\n",
      " THe area under the curve is  0.48829900000000004\n"
     ]
    }
   ],
   "source": [
    "import sklearn\n",
    "a = pd.read_csv('5_a.csv')\n",
    "#print(a.head(10))\n",
    "y_prob = a[\"proba\"]\n",
    "y_pred = y_prob.map(predict)\n",
    "a['y_pred'] = y_pred\n",
    "print(a.head(10))\n",
    "\n",
    "y_true = a['y'] #True values of y is the second column called y\n",
    "y_pred = a['y_pred'] #Predicted values of y is the 3rd column callled y_pred\n",
    "\n",
    "#skl_f1score = sklearn.metrics.f1_score(y_true, y_pred, labels=None, pos_label=1, average='binary', sample_weight=None, zero_division='warn')\n",
    "#CN = sklearn.metrics.confusion_matrix(y_true, y_pred, labels=None, sample_weight=None, normalize=None)\n",
    "#AC = sklearn.metrics.accuracy_score(y_true, y_pred, normalize=True, sample_weight=None)\n",
    "\n",
    "#print(\"The confusion matrix from sklearn is :\\n\", CN)\n",
    "#print(\"The F-1 score from sklearn is \", skl_f1score)\n",
    "#print(\"The accuracy score from sklearn is  \",AC)\n",
    "\n",
    "\n",
    "print(\"\\ne confusion matrix is:  \\n\", confusion_matrix(a))\n",
    "print(\"\\nhe F-1 score is \", f1_score(confusion_matrix(a)))\n",
    "print(\"The accuracy score is \", Accuracy_score(confusion_matrix(a)))\n",
    "print(\"\\n THe area under the curve is \", AreaUnderCurve(a))\n",
    "\n"
   ]
  },
  {
   "cell_type": "markdown",
   "metadata": {
    "colab_type": "text",
    "id": "V5KZem1BQvn2"
   },
   "source": [
    "<pre>\n",
    "<font color='red'><b>B.</b></font> Compute performance metrics for the given data <strong>5_b.csv</strong>\n",
    "   <b>Note 1:</b> in this data you can see number of positive points << number of negatives points\n",
    "   <b>Note 2:</b> use pandas or numpy to read the data from <b>5_b.csv</b>\n",
    "   <b>Note 3:</b> you need to derive the class labels from given score</pre> $y^{pred}= \\text{[0 if y_score < 0.5 else 1]}$\n",
    "\n",
    "<pre>\n",
    "<ol>\n",
    "<li> Compute Confusion Matrix </li>\n",
    "<li> Compute F1 Score </li>\n",
    "<li> Compute AUC Score, you need to compute different thresholds and for each threshold compute tpr,fpr and then use               numpy.trapz(tpr_array, fpr_array) <a href='https://stackoverflow.com/q/53603376/4084039'>https://stackoverflow.com/q/53603376/4084039</a>, <a href='https://stackoverflow.com/a/39678975/4084039'>https://stackoverflow.com/a/39678975/4084039</a></li>\n",
    "<li> Compute Accuracy Score </li>\n",
    "</ol>\n",
    "</pre>"
   ]
  },
  {
   "cell_type": "code",
   "execution_count": 7,
   "metadata": {
    "colab": {},
    "colab_type": "code",
    "id": "U2sKlq0YQvn5"
   },
   "outputs": [
    {
     "name": "stdout",
     "output_type": "stream",
     "text": [
      "     y     proba\n",
      "0  0.0  0.281035\n",
      "1  0.0  0.465152\n",
      "2  0.0  0.352793\n",
      "3  0.0  0.157818\n",
      "4  0.0  0.276648\n",
      "5  0.0  0.190260\n",
      "6  0.0  0.320328\n",
      "7  0.0  0.435013\n",
      "8  0.0  0.284849\n",
      "9  0.0  0.427919\n",
      "\n",
      "The confusion matrix is:  \n",
      " [[  55.  239.]\n",
      " [  45. 9761.]]\n",
      "\n",
      "The F-1 score is  0.2791878172588833\n"
     ]
    },
    {
     "name": "stderr",
     "output_type": "stream",
     "text": [
      "  0%|▎                                                                             | 35/10100 [00:00<00:29, 343.96it/s]"
     ]
    },
    {
     "name": "stdout",
     "output_type": "stream",
     "text": [
      "\n",
      "The accuracy score is  0.9718811881188119\n"
     ]
    },
    {
     "name": "stderr",
     "output_type": "stream",
     "text": [
      "100%|███████████████████████████████████████████████████████████████████████████| 10100/10100 [00:19<00:00, 529.12it/s]\n"
     ]
    },
    {
     "data": {
      "image/png": "[encoded data removed]",
      "text/plain": [
       "<Figure size 432x288 with 1 Axes>"
      ]
     },
     "metadata": {
      "needs_background": "light"
     },
     "output_type": "display_data"
    },
    {
     "name": "stdout",
     "output_type": "stream",
     "text": [
      "\n",
      "The area under the curve is  0.9377570000000001\n"
     ]
    }
   ],
   "source": [
    "\n",
    "\n",
    "import sklearn\n",
    "b = pd.read_csv('5_b.csv')\n",
    "print(b.head(10))\n",
    "y_prob = b[\"proba\"]\n",
    "y_pred = y_prob.map(predict)\n",
    "b['y_pred'] = y_pred\n",
    "#print(b.head(10))\n",
    "\n",
    "y_true = b['y'] #True values of y is the second column called y\n",
    "y_pred = b['y_pred'] #Predicted values of y is the 3rd column callled y_pred\n",
    "\n",
    "#skl_f1score = sklearn.metrics.f1_score(y_true, y_pred, labels=None, pos_label=1, average='binary', sample_weight=None, zero_division='warn')\n",
    "#CN = sklearn.metrics.confusion_matrix(y_true,y_pred, labels=None, sample_weight=None, normalize=None)\n",
    "#AC = sklearn.metrics.accuracy_score(y_true, y_pred, normalize=True, sample_weight=None)\n",
    "\n",
    "#print(\"The confusion matrix from sklearn is :\\n\", CN)\n",
    "#print(\"The F-1 score from sklearn is \", skl_f1score)\n",
    "#print(\"The accuracy score from sklearn is  \",AC)\n",
    "\n",
    "\n",
    "print(\"\\nThe confusion matrix is:  \\n\", confusion_matrix(b))\n",
    "print(\"\\nThe F-1 score is \", f1_score(confusion_matrix(b)))\n",
    "print(\"\\nThe accuracy score is \", Accuracy_score(confusion_matrix(b)))\n",
    "print(\"\\nThe area under the curve is \", AreaUnderCurve(b))"
   ]
  },
  {
   "cell_type": "markdown",
   "metadata": {
    "colab_type": "text",
    "id": "GiPGonTzQvoB"
   },
   "source": [
    "<font color='red'><b>C.</b></font> Compute the best threshold (similarly to ROC curve computation) of probability which gives lowest values of metric <b>A</b> for the given data <strong>5_c.csv</strong>\n",
    "<br>\n",
    "\n",
    "you will be predicting label of a data points like this: $y^{pred}= \\text{[0 if y_score < threshold  else 1]}$\n",
    "\n",
    "$ A = 500 \\times \\text{number of false negative} + 100 \\times \\text{numebr of false positive}$\n",
    "\n",
    "<pre>\n",
    "   <b>Note 1:</b> in this data you can see number of negative points > number of positive points\n",
    "   <b>Note 2:</b> use pandas or numpy to read the data from <b>5_c.csv</b>\n",
    "</pre>"
   ]
  },
  {
   "cell_type": "code",
   "execution_count": 90,
   "metadata": {
    "colab": {},
    "colab_type": "code",
    "id": "x5HIJzq1QvoE"
   },
   "outputs": [
    {
     "name": "stderr",
     "output_type": "stream",
     "text": [
      "  5%|████                                                                          | 145/2791 [00:00<00:03, 672.15it/s]"
     ]
    },
    {
     "name": "stdout",
     "output_type": "stream",
     "text": [
      "   y      prob\n",
      "0  0  0.458521\n",
      "1  0  0.505037\n",
      "2  0  0.418652\n",
      "3  0  0.412057\n",
      "4  0  0.375579\n",
      "5  0  0.595387\n",
      "6  0  0.370288\n",
      "7  0  0.299273\n",
      "8  0  0.297000\n",
      "9  0  0.266479\n"
     ]
    },
    {
     "name": "stderr",
     "output_type": "stream",
     "text": [
      "100%|████████████████████████████████████████████████████████████████████████████| 2791/2791 [00:02<00:00, 1032.89it/s]"
     ]
    },
    {
     "name": "stdout",
     "output_type": "stream",
     "text": [
      "THe  smallest value of A = 141000 and the threshold we get this value is 0.2300390278970873\n"
     ]
    },
    {
     "name": "stderr",
     "output_type": "stream",
     "text": [
      "\n"
     ]
    }
   ],
   "source": [
    "from tqdm import tqdm\n",
    "data = pd.read_csv('5_c.csv')\n",
    "print(c.head(10))\n",
    "\n",
    "data = data.sort_values(by= [\"prob\"], ascending = False)\n",
    "\n",
    "metricA =[]\n",
    "thresholds = list(data['prob'].unique())\n",
    "A_dict ={}\n",
    "for threshold in tqdm(thresholds):\n",
    "    data[\"pred\"] = np.where(data[\"prob\"]>=threshold, 1,0)\n",
    "    FP = ((data.pred == 1.0) & (data.y == 0)).sum()\n",
    "    FN = ((data.pred== 0) &(data.y == 1.0)).sum()\n",
    "    MetricA = ((500*FN) + (100*FP))\n",
    "    metricA.append(MetricA)\n",
    "    A_dict[threshold] = MetricA  # Creating a dict. of thresholds as keys and MetricA as its value\n",
    "    \n",
    "#print(list(data['prob'].unique()))    \n",
    "#print(len(A_dict))\n",
    "min_A = min(metricA) #Smallest value of A\n",
    "for key, value in A_dict.items(): #Extracting the threshold (key)for the smallest A value.\n",
    "     if value == min_A:\n",
    "        print(\"THe  smallest value of A = {} and the threshold we get this value is {}\".format(value, key))\n",
    "\n"
   ]
  },
  {
   "cell_type": "markdown",
   "metadata": {
    "colab_type": "text",
    "id": "sD4CcgjXQvoL"
   },
   "source": [
    "<pre>\n",
    "<font color='red'><b>D.</b></font> Compute performance metrics(for regression) for the given data <strong>5_d.csv</strong>\n",
    "    <b>Note 2:</b> use pandas or numpy to read the data from <b>5_d.csv</b>\n",
    "    <b>Note 1:</b> <b>5_d.csv</b> will having two columns Y and predicted_Y both are real valued features\n",
    "<ol>\n",
    "<li> Compute Mean Square Error </li>\n",
    "<li> Compute MAPE: https://www.youtube.com/watch?v=ly6ztgIkUxk</li>\n",
    "<li> Compute R^2 error: https://en.wikipedia.org/wiki/Coefficient_of_determination#Definitions </li>\n",
    "</ol>\n",
    "</pre>"
   ]
  },
  {
   "cell_type": "code",
   "execution_count": 83,
   "metadata": {},
   "outputs": [
    {
     "name": "stdout",
     "output_type": "stream",
     "text": [
      "       y   pred\n",
      "0  101.0  100.0\n",
      "1  120.0  100.0\n",
      "2  131.0  113.0\n",
      "3  164.0  125.0\n",
      "4  154.0  152.0\n",
      "5  133.0  153.0\n",
      "6  148.0  139.0\n",
      "7  172.0  145.0\n",
      "8  153.0  162.0\n",
      "9  162.0  154.0\n",
      "\n",
      "The mean square error is  177.16569974554707\n",
      "The value of Modified MAPE in percentage is 12.91202994009687\n",
      "The R squared error is  0.9563582786990964\n"
     ]
    }
   ],
   "source": [
    "import sklearn\n",
    "d = pd.read_csv('5_d.csv')\n",
    "print(d.head(10))\n",
    "\n",
    "y_true = d['y']\n",
    "y_pred = d['pred']\n",
    "\n",
    "d[\"error\"] = (d['pred'] - d['y'])\n",
    "d[\"error_square\"] = d['error']**2\n",
    "#print(d.head())\n",
    "\n",
    "print(\"\\nThe mean square error is \", d['error_square'].mean(axis=0))\n",
    "\n",
    "#MQE =sklearn.metrics.mean_squared_error(y_true, y_pred, sample_weight=None, multioutput='uniform_average', squared=True)\n",
    "#print (\"\\nThe mean square error from sklearn is :\" ,MQE)\n",
    "\n",
    "#MAPE = ((sum of absolute errors)/(sum of all actual values)) :Modified MAPE to avoid a value of a=0\n",
    "absolute_error= [abs(x) for x in list(d[\"error\"])]\n",
    "absolute_error_sum = sum(absolute_error)\n",
    "actual_values_sum = d['y'].sum(axis=0)\n",
    "MAPE = (absolute_error_sum/actual_values_sum)*100\n",
    "print(\"The value of Modified MAPE in percentage is\", MAPE)\n",
    "\n",
    "#SS_total(Sum of squares = sigmna 1/n ((yi-ybar)**2) where ybar is average of all yi\n",
    "y_bar = d[\"y\"].mean()\n",
    "d[\"SS_total\"] = (d[\"y\"]-y_bar)**2\n",
    "SS_total = d[\"SS_total\"].mean()\n",
    "\n",
    "##SS_residual  = (yi-y_pred)**2\n",
    "d[\"SS_residual\"] = (d[\"y\"]-d[\"pred\"])**2\n",
    "SS_residual = d[\"SS_residual\"].mean()\n",
    "\n",
    "R_square_error = 1-(SS_residual/SS_total)\n",
    "print(\"The R squared error is \", R_square_error)\n",
    "\n"
   ]
  },
  {
   "cell_type": "code",
   "execution_count": null,
   "metadata": {},
   "outputs": [],
   "source": [
    "## WAY TO MAKE BALANCED DATASET FROM IMBALANCED DATASET BY DROPPING DATA\n",
    "import random\n",
    "data = pd.read_csv(\"5_a.csv\")\n",
    "negative = data[data.y==0]\n",
    "print(len(negative))\n",
    "print(new_data.head())\n",
    "positives = data[data.y==1]\n",
    "print(\"NUmner of positive samples = \", len(positive))\n",
    "indices= random.sample(range(len(positive)),100)\n",
    "positive = positives.iloc[indices,:]\n",
    "print(positive.head())\n",
    "new_data = pd.concat([positive,negative])\n",
    "print(len(new_data))\n",
    "print(\"Area under cure\",AreaUnderCurve(new_data))"
   ]
  }
 ],
 "metadata": {
  "colab": {
   "collapsed_sections": [],
   "name": "5_Performance_metrics_Instructions.ipynb",
   "provenance": []
  },
  "kernelspec": {
   "display_name": "Python 3 (ipykernel)",
   "language": "python",
   "name": "python3"
  },
  "language_info": {
   "codemirror_mode": {
    "name": "ipython",
    "version": 3
   },
   "file_extension": ".py",
   "mimetype": "text/x-python",
   "name": "python",
   "nbconvert_exporter": "python",
   "pygments_lexer": "ipython3",
   "version": "3.10.9"
  }
 },
 "nbformat": 4,
 "nbformat_minor": 1
}
